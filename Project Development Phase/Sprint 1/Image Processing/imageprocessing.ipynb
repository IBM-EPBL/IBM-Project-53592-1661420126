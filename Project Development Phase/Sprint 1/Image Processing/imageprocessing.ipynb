{
  "cells": [
    {
      "cell_type": "code",
      "source": [
        "from keras.preprocessing.image import ImageDataGenerator"
      ],
      "metadata": {
        "id": "SimftYwgnJ-A"
      },
      "execution_count": null,
      "outputs": []
    },
    {
      "cell_type": "code",
      "source": [
        "train_datagen = ImageDataGenerator (rescale = 1./255, shear_range= 0.2,zoom_range= 0.2, horizontal_flip = True)"
      ],
      "metadata": {
        "id": "6E5EIt9MnKEF"
      },
      "execution_count": null,
      "outputs": []
    },
    {
      "cell_type": "code",
      "source": [
        "test_datagen =ImageDataGenerator (rescale = 1)"
      ],
      "metadata": {
        "id": "9TITBJvgnREZ"
      },
      "execution_count": null,
      "outputs": []
    },
    {
      "cell_type": "code",
      "source": [
        "x_train = train_datagen.flow_from_directory('/content/drive/MyDrive/IBM PROJECT/fruit-dataset/fruit-dataset/train',target_size = (128,128),batch_size = 32,class_mode = 'categorical')\n",
        "x_test = test_datagen.flow_from_directory('/content/drive/MyDrive/IBM PROJECT/fruit-dataset/fruit-dataset/test',target_size = (128,128),batch_size = 32,class_mode = 'categorical')"
      ],
      "metadata": {
        "id": "Scp-csxYnWh6",
        "colab": {
          "base_uri": "https://localhost:8080/"
        },
        "outputId": "4ba76388-a159-4d54-fe1d-610d4695742d"
      },
      "execution_count": null,
      "outputs": [
        {
          "output_type": "stream",
          "name": "stdout",
          "text": [
            "Found 5406 images belonging to 6 classes.\n",
            "Found 1686 images belonging to 6 classes.\n"
          ]
        }
      ]
    },
    {
      "cell_type": "code",
      "source": [
        "x_train = train_datagen.flow_from_directory('/content/drive/MyDrive/IBM PROJECT/Veg-dataset/Veg-dataset/train_set',target_size = (128,128),batch_size = 32,class_mode = 'categorical')\n",
        "x_test = test_datagen.flow_from_directory('/content/drive/MyDrive/IBM PROJECT/Veg-dataset/Veg-dataset/test_set',target_size = (128,128),batch_size = 32,class_mode = 'categorical')"
      ],
      "metadata": {
        "colab": {
          "base_uri": "https://localhost:8080/"
        },
        "id": "xrTjje6coWbe",
        "outputId": "bbe1be40-e2b6-4838-c698-85bcf771355a"
      },
      "execution_count": null,
      "outputs": [
        {
          "output_type": "stream",
          "name": "stdout",
          "text": [
            "Found 11403 images belonging to 9 classes.\n",
            "Found 3436 images belonging to 9 classes.\n"
          ]
        }
      ]
    }
  ],
  "metadata": {
    "colab": {
      "collapsed_sections": [],
      "provenance": []
    },
    "kernelspec": {
      "display_name": "Python 3",
      "name": "python3"
    }
  },
  "nbformat": 4,
  "nbformat_minor": 0
}