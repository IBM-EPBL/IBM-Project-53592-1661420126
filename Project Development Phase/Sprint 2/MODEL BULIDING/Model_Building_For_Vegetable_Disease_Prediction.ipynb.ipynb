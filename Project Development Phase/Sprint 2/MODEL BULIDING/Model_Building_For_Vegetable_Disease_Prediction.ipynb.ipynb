{
  "cells": [
    {
      "cell_type": "code",
      "source": [
        "from keras.preprocessing.image import ImageDataGenerator\n",
        "train_datagen=ImageDataGenerator(rescale=1./255,shear_range=0.2,zoom_range=0.2,horizontal_flip=True)\n",
        "test_datagen=ImageDataGenerator(rescale=1)"
      ],
      "metadata": {
        "id": "-5Y2vVE_mDRq"
      },
      "execution_count": 26,
      "outputs": []
    },
    {
      "cell_type": "code",
      "source": [
        "x_train=train_datagen.flow_from_directory(r'/content/drive/MyDrive/IBM PROJECT/Veg-dataset/Veg-dataset/test_set',target_size=(128,128),batch_size=2,class_mode='categorical')\n",
        "x_test=test_datagen.flow_from_directory(r'/content/drive/MyDrive/IBM PROJECT/Veg-dataset/Veg-dataset/train_set',target_size=(128,128),batch_size=2,class_mode='categorical')"
      ],
      "metadata": {
        "id": "uK48pngemPp6",
        "outputId": "a815e578-b6ea-48a0-9b79-0115804125a1",
        "colab": {
          "base_uri": "https://localhost:8080/"
        }
      },
      "execution_count": 32,
      "outputs": [
        {
          "output_type": "stream",
          "name": "stdout",
          "text": [
            "Found 3436 images belonging to 9 classes.\n",
            "Found 11403 images belonging to 9 classes.\n"
          ]
        }
      ]
    },
    {
      "cell_type": "code",
      "source": [
        "from keras.models import Sequential\n",
        "from keras.layers import Dense\n",
        "from keras.layers import Convolution2D\n",
        "from keras.layers import MaxPooling2D\n",
        "from keras.layers import Flatten"
      ],
      "metadata": {
        "id": "0ekgj_aYnHA8"
      },
      "execution_count": 33,
      "outputs": []
    },
    {
      "cell_type": "code",
      "source": [
        "model=Sequential()"
      ],
      "metadata": {
        "id": "buyMavZ9nQJ7"
      },
      "execution_count": 34,
      "outputs": []
    },
    {
      "cell_type": "code",
      "source": [
        "model.add(Convolution2D(32,(3,3),input_shape=(128,128,3),activation='relu'))"
      ],
      "metadata": {
        "id": "UuBuzdbsnR9S"
      },
      "execution_count": 35,
      "outputs": []
    },
    {
      "cell_type": "code",
      "source": [
        "model.add(MaxPooling2D(pool_size=(2,2)))"
      ],
      "metadata": {
        "id": "5JAblOa4nX4b"
      },
      "execution_count": 36,
      "outputs": []
    },
    {
      "cell_type": "code",
      "source": [
        "model.add(Flatten())"
      ],
      "metadata": {
        "id": "vj_weEvCnavw"
      },
      "execution_count": 37,
      "outputs": []
    },
    {
      "cell_type": "code",
      "source": [
        "model.add(Dense(units=300,kernel_initializer='uniform',activation='relu'))"
      ],
      "metadata": {
        "id": "1QKyUSA6nh9p"
      },
      "execution_count": 38,
      "outputs": []
    },
    {
      "cell_type": "code",
      "source": [
        "model.add(Dense(units=150,kernel_initializer='random_uniform',activation='relu'))"
      ],
      "metadata": {
        "id": "hVvTIh-Vnm-B"
      },
      "execution_count": 39,
      "outputs": []
    },
    {
      "cell_type": "code",
      "source": [
        "model.add(Dense(units=75,kernel_initializer='uniform',activation='relu'))"
      ],
      "metadata": {
        "id": "CecpIaV7nsP7"
      },
      "execution_count": 40,
      "outputs": []
    },
    {
      "cell_type": "code",
      "source": [
        "model.add(Dense(units=9,kernel_initializer='uniform',activation='softmax'))"
      ],
      "metadata": {
        "id": "2gItZCp4nx-i"
      },
      "execution_count": 41,
      "outputs": []
    },
    {
      "cell_type": "code",
      "source": [
        "model.compile(loss='categorical_crossentropy',optimizer=\"adam\",metrics=[\"accuracy\"])"
      ],
      "metadata": {
        "id": "L-N4oFa_n1KB"
      },
      "execution_count": 42,
      "outputs": []
    },
    {
      "cell_type": "code",
      "source": [
        "model.fit(x_train,steps_per_epoch=89,epochs=20,validation_data=x_test,validation_steps=27)"
      ],
      "metadata": {
        "id": "iUkeS6qEn5Ah",
        "outputId": "7b6891f4-42d0-472a-fddb-dc83db7fce50",
        "colab": {
          "base_uri": "https://localhost:8080/"
        }
      },
      "execution_count": 43,
      "outputs": [
        {
          "output_type": "stream",
          "name": "stdout",
          "text": [
            "Epoch 1/20\n",
            "89/89 [==============================] - 69s 757ms/step - loss: 2.1585 - accuracy: 0.2135 - val_loss: 104.1368 - val_accuracy: 0.1111\n",
            "Epoch 2/20\n",
            "89/89 [==============================] - 61s 683ms/step - loss: 2.0983 - accuracy: 0.1798 - val_loss: 252.9186 - val_accuracy: 0.1111\n",
            "Epoch 3/20\n",
            "89/89 [==============================] - 60s 670ms/step - loss: 2.1121 - accuracy: 0.2135 - val_loss: 157.5039 - val_accuracy: 0.1296\n",
            "Epoch 4/20\n",
            "89/89 [==============================] - 71s 797ms/step - loss: 2.1166 - accuracy: 0.1742 - val_loss: 65.0637 - val_accuracy: 0.2593\n",
            "Epoch 5/20\n",
            "89/89 [==============================] - 61s 680ms/step - loss: 1.9603 - accuracy: 0.2303 - val_loss: 65.9402 - val_accuracy: 0.5185\n",
            "Epoch 6/20\n",
            "89/89 [==============================] - 60s 676ms/step - loss: 1.8602 - accuracy: 0.2865 - val_loss: 170.1227 - val_accuracy: 0.3333\n",
            "Epoch 7/20\n",
            "89/89 [==============================] - 60s 672ms/step - loss: 1.8432 - accuracy: 0.2978 - val_loss: 64.4699 - val_accuracy: 0.3704\n",
            "Epoch 8/20\n",
            "89/89 [==============================] - 60s 672ms/step - loss: 1.8017 - accuracy: 0.3202 - val_loss: 65.5724 - val_accuracy: 0.2037\n",
            "Epoch 9/20\n",
            "89/89 [==============================] - 58s 654ms/step - loss: 1.6183 - accuracy: 0.4213 - val_loss: 194.3344 - val_accuracy: 0.1667\n",
            "Epoch 10/20\n",
            "89/89 [==============================] - 60s 675ms/step - loss: 1.6038 - accuracy: 0.4157 - val_loss: 113.8883 - val_accuracy: 0.4259\n",
            "Epoch 11/20\n",
            "89/89 [==============================] - 60s 670ms/step - loss: 1.5167 - accuracy: 0.4326 - val_loss: 247.7376 - val_accuracy: 0.3704\n",
            "Epoch 12/20\n",
            "89/89 [==============================] - 61s 680ms/step - loss: 1.4524 - accuracy: 0.4551 - val_loss: 201.4803 - val_accuracy: 0.2593\n",
            "Epoch 13/20\n",
            "89/89 [==============================] - 61s 685ms/step - loss: 1.5097 - accuracy: 0.4213 - val_loss: 102.6628 - val_accuracy: 0.4074\n",
            "Epoch 14/20\n",
            "89/89 [==============================] - 60s 668ms/step - loss: 1.4600 - accuracy: 0.5169 - val_loss: 264.9375 - val_accuracy: 0.3148\n",
            "Epoch 15/20\n",
            "89/89 [==============================] - 59s 667ms/step - loss: 1.3377 - accuracy: 0.5056 - val_loss: 299.6516 - val_accuracy: 0.4074\n",
            "Epoch 16/20\n",
            "89/89 [==============================] - 61s 687ms/step - loss: 1.5245 - accuracy: 0.4382 - val_loss: 391.6711 - val_accuracy: 0.2778\n",
            "Epoch 17/20\n",
            "89/89 [==============================] - 60s 676ms/step - loss: 1.5407 - accuracy: 0.4045 - val_loss: 152.6716 - val_accuracy: 0.3333\n",
            "Epoch 18/20\n",
            "89/89 [==============================] - 57s 645ms/step - loss: 1.5113 - accuracy: 0.4382 - val_loss: 102.9749 - val_accuracy: 0.2593\n",
            "Epoch 19/20\n",
            "89/89 [==============================] - 59s 664ms/step - loss: 1.4199 - accuracy: 0.4888 - val_loss: 148.6885 - val_accuracy: 0.4074\n",
            "Epoch 20/20\n",
            "89/89 [==============================] - 57s 639ms/step - loss: 1.4299 - accuracy: 0.5449 - val_loss: 245.3478 - val_accuracy: 0.2963\n"
          ]
        },
        {
          "output_type": "execute_result",
          "data": {
            "text/plain": [
              "<keras.callbacks.History at 0x7fc094515f10>"
            ]
          },
          "metadata": {},
          "execution_count": 43
        }
      ]
    },
    {
      "cell_type": "code",
      "source": [
        "model.save('vegetable.h5')"
      ],
      "metadata": {
        "id": "QShriafYn9Nz"
      },
      "execution_count": 44,
      "outputs": []
    },
    {
      "cell_type": "code",
      "source": [
        "model.summary()"
      ],
      "metadata": {
        "id": "uInHLBsfoChB",
        "outputId": "d42476d7-100d-4224-8599-6dbd140b5c3d",
        "colab": {
          "base_uri": "https://localhost:8080/"
        }
      },
      "execution_count": 45,
      "outputs": [
        {
          "output_type": "stream",
          "name": "stdout",
          "text": [
            "Model: \"sequential_1\"\n",
            "_________________________________________________________________\n",
            " Layer (type)                Output Shape              Param #   \n",
            "=================================================================\n",
            " conv2d_1 (Conv2D)           (None, 126, 126, 32)      896       \n",
            "                                                                 \n",
            " max_pooling2d_1 (MaxPooling  (None, 63, 63, 32)       0         \n",
            " 2D)                                                             \n",
            "                                                                 \n",
            " flatten_1 (Flatten)         (None, 127008)            0         \n",
            "                                                                 \n",
            " dense_3 (Dense)             (None, 300)               38102700  \n",
            "                                                                 \n",
            " dense_4 (Dense)             (None, 150)               45150     \n",
            "                                                                 \n",
            " dense_5 (Dense)             (None, 75)                11325     \n",
            "                                                                 \n",
            " dense_6 (Dense)             (None, 9)                 684       \n",
            "                                                                 \n",
            "=================================================================\n",
            "Total params: 38,160,755\n",
            "Trainable params: 38,160,755\n",
            "Non-trainable params: 0\n",
            "_________________________________________________________________\n"
          ]
        }
      ]
    }
  ],
  "metadata": {
    "colab": {
      "name": "Welcome To Colaboratory",
      "provenance": []
    },
    "kernelspec": {
      "display_name": "Python 3",
      "name": "python3"
    }
  },
  "nbformat": 4,
  "nbformat_minor": 0
}