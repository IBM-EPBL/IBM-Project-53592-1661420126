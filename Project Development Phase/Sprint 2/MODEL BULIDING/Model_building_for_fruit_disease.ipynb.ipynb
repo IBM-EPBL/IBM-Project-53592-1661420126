{
  "cells": [
    {
      "cell_type": "code",
      "source": [
        "from keras.preprocessing.image import ImageDataGenerator\n",
        "train_datagen=ImageDataGenerator(rescale=1./255,shear_range=0.2,zoom_range=0.2,horizontal_flip=True)\n",
        "test_datagen=ImageDataGenerator(rescale=1)"
      ],
      "metadata": {
        "id": "MUuAsYz3YOAa"
      },
      "execution_count": 10,
      "outputs": []
    },
    {
      "cell_type": "code",
      "source": [
        "x_train=train_datagen.flow_from_directory(r'/content/drive/MyDrive/IBM PROJECT/fruit-dataset/fruit-dataset/test',target_size=(128,128),batch_size=2,class_mode='categorical')\n",
        "x_test=test_datagen.flow_from_directory(r'/content/drive/MyDrive/IBM PROJECT/fruit-dataset/fruit-dataset/train',target_size=(128,128),batch_size=2,class_mode='categorical')"
      ],
      "metadata": {
        "id": "4mVG6KhhYuT9",
        "outputId": "cac6a4cb-53c5-4bb8-87c9-8778567bcec5",
        "colab": {
          "base_uri": "https://localhost:8080/"
        }
      },
      "execution_count": 13,
      "outputs": [
        {
          "output_type": "stream",
          "name": "stdout",
          "text": [
            "Found 1686 images belonging to 6 classes.\n",
            "Found 5406 images belonging to 6 classes.\n"
          ]
        }
      ]
    },
    {
      "cell_type": "code",
      "source": [
        "from keras.models import Sequential\n",
        "from keras.layers import Dense\n",
        "from keras.layers import Convolution2D\n",
        "from keras.layers import MaxPooling2D\n",
        "from keras.layers import Flatten"
      ],
      "metadata": {
        "id": "h5i3UxkfZTz8"
      },
      "execution_count": 14,
      "outputs": []
    },
    {
      "cell_type": "code",
      "source": [
        "model=Sequential()"
      ],
      "metadata": {
        "id": "P2sQ3HPBZXoy"
      },
      "execution_count": 15,
      "outputs": []
    },
    {
      "cell_type": "code",
      "source": [
        "model.add(Convolution2D(32,(3,3),input_shape=(128,128,3),activation='relu'))"
      ],
      "metadata": {
        "id": "TQAbIDlLZbJK"
      },
      "execution_count": 16,
      "outputs": []
    },
    {
      "cell_type": "code",
      "source": [
        "model.add(MaxPooling2D(pool_size=(2,2)))"
      ],
      "metadata": {
        "id": "4v0iJkJcZfBS"
      },
      "execution_count": 17,
      "outputs": []
    },
    {
      "cell_type": "code",
      "source": [
        "model.add(Flatten())\n"
      ],
      "metadata": {
        "id": "7gLHO1xyZimC"
      },
      "execution_count": 18,
      "outputs": []
    },
    {
      "cell_type": "code",
      "source": [
        "model.add(Dense(units=40,kernel_initializer='uniform',activation='relu'))"
      ],
      "metadata": {
        "id": "JX8UcqWoZxHi"
      },
      "execution_count": 19,
      "outputs": []
    },
    {
      "cell_type": "code",
      "source": [
        "model.add(Dense(units=20,kernel_initializer='random_uniform',activation='relu'))"
      ],
      "metadata": {
        "id": "lwI5b4_JZ12z"
      },
      "execution_count": 20,
      "outputs": []
    },
    {
      "cell_type": "code",
      "source": [
        "model.add(Dense(units=6,kernel_initializer='random_uniform',activation='softmax'))"
      ],
      "metadata": {
        "id": "Rr2grxzlZ5Zs"
      },
      "execution_count": 21,
      "outputs": []
    },
    {
      "cell_type": "code",
      "source": [
        "model.compile(loss='categorical_crossentropy',optimizer=\"adam\",metrics=[\"accuracy\"])"
      ],
      "metadata": {
        "id": "qpr0fCGHZ8SK"
      },
      "execution_count": 22,
      "outputs": []
    },
    {
      "cell_type": "code",
      "source": [
        "model.fit(x_train,steps_per_epoch=89,epochs=20,validation_data=x_test,validation_steps=27)"
      ],
      "metadata": {
        "id": "Bs414jgSaAIq",
        "outputId": "f3ad0771-9931-48f9-b104-48676e162532",
        "colab": {
          "base_uri": "https://localhost:8080/"
        }
      },
      "execution_count": 23,
      "outputs": [
        {
          "output_type": "stream",
          "name": "stdout",
          "text": [
            "Epoch 1/20\n",
            "89/89 [==============================] - 49s 536ms/step - loss: 1.7075 - accuracy: 0.2528 - val_loss: 53.8726 - val_accuracy: 0.2963\n",
            "Epoch 2/20\n",
            "89/89 [==============================] - 45s 508ms/step - loss: 1.6802 - accuracy: 0.3596 - val_loss: 114.6435 - val_accuracy: 0.4074\n",
            "Epoch 3/20\n",
            "89/89 [==============================] - 43s 489ms/step - loss: 1.3863 - accuracy: 0.4944 - val_loss: 166.0479 - val_accuracy: 0.4630\n",
            "Epoch 4/20\n",
            "89/89 [==============================] - 41s 457ms/step - loss: 1.1123 - accuracy: 0.5787 - val_loss: 305.8023 - val_accuracy: 0.4630\n",
            "Epoch 5/20\n",
            "89/89 [==============================] - 39s 442ms/step - loss: 0.8270 - accuracy: 0.6910 - val_loss: 54.8707 - val_accuracy: 0.7407\n",
            "Epoch 6/20\n",
            "89/89 [==============================] - 33s 375ms/step - loss: 0.6328 - accuracy: 0.7697 - val_loss: 80.0593 - val_accuracy: 0.7222\n",
            "Epoch 7/20\n",
            "89/89 [==============================] - 33s 373ms/step - loss: 0.5848 - accuracy: 0.7921 - val_loss: 74.2689 - val_accuracy: 0.7037\n",
            "Epoch 8/20\n",
            "89/89 [==============================] - 33s 369ms/step - loss: 0.6728 - accuracy: 0.7809 - val_loss: 51.9559 - val_accuracy: 0.7778\n",
            "Epoch 9/20\n",
            "89/89 [==============================] - 29s 326ms/step - loss: 0.5384 - accuracy: 0.8090 - val_loss: 92.0310 - val_accuracy: 0.7963\n",
            "Epoch 10/20\n",
            "89/89 [==============================] - 27s 306ms/step - loss: 0.5563 - accuracy: 0.8202 - val_loss: 84.0192 - val_accuracy: 0.7593\n",
            "Epoch 11/20\n",
            "89/89 [==============================] - 25s 285ms/step - loss: 0.6307 - accuracy: 0.7978 - val_loss: 50.1840 - val_accuracy: 0.8333\n",
            "Epoch 12/20\n",
            "89/89 [==============================] - 24s 270ms/step - loss: 0.5422 - accuracy: 0.8258 - val_loss: 118.8324 - val_accuracy: 0.6667\n",
            "Epoch 13/20\n",
            "89/89 [==============================] - 24s 274ms/step - loss: 0.4519 - accuracy: 0.8708 - val_loss: 72.1860 - val_accuracy: 0.8333\n",
            "Epoch 14/20\n",
            "89/89 [==============================] - 30s 345ms/step - loss: 0.4243 - accuracy: 0.8315 - val_loss: 119.9687 - val_accuracy: 0.8519\n",
            "Epoch 15/20\n",
            "89/89 [==============================] - 24s 268ms/step - loss: 0.4533 - accuracy: 0.8483 - val_loss: 120.8436 - val_accuracy: 0.7037\n",
            "Epoch 16/20\n",
            "89/89 [==============================] - 21s 235ms/step - loss: 0.3739 - accuracy: 0.8764 - val_loss: 66.9077 - val_accuracy: 0.7963\n",
            "Epoch 17/20\n",
            "89/89 [==============================] - 22s 250ms/step - loss: 0.4714 - accuracy: 0.8090 - val_loss: 40.9221 - val_accuracy: 0.8889\n",
            "Epoch 18/20\n",
            "89/89 [==============================] - 22s 248ms/step - loss: 0.4066 - accuracy: 0.8483 - val_loss: 184.8512 - val_accuracy: 0.7778\n",
            "Epoch 19/20\n",
            "89/89 [==============================] - 20s 217ms/step - loss: 0.3893 - accuracy: 0.8427 - val_loss: 23.1427 - val_accuracy: 0.9259\n",
            "Epoch 20/20\n",
            "89/89 [==============================] - 22s 249ms/step - loss: 0.3994 - accuracy: 0.8876 - val_loss: 85.7327 - val_accuracy: 0.7407\n"
          ]
        },
        {
          "output_type": "execute_result",
          "data": {
            "text/plain": [
              "<keras.callbacks.History at 0x7fc09a5f3890>"
            ]
          },
          "metadata": {},
          "execution_count": 23
        }
      ]
    },
    {
      "cell_type": "code",
      "source": [
        "model.save('fruit.h5')"
      ],
      "metadata": {
        "id": "U52VxTbsaJbb"
      },
      "execution_count": 24,
      "outputs": []
    },
    {
      "cell_type": "code",
      "source": [
        "model.summary()"
      ],
      "metadata": {
        "id": "V1NMIw9vaP2r",
        "outputId": "ca275231-56de-419a-aaa4-717d0b813314",
        "colab": {
          "base_uri": "https://localhost:8080/"
        }
      },
      "execution_count": 25,
      "outputs": [
        {
          "output_type": "stream",
          "name": "stdout",
          "text": [
            "Model: \"sequential\"\n",
            "_________________________________________________________________\n",
            " Layer (type)                Output Shape              Param #   \n",
            "=================================================================\n",
            " conv2d (Conv2D)             (None, 126, 126, 32)      896       \n",
            "                                                                 \n",
            " max_pooling2d (MaxPooling2D  (None, 63, 63, 32)       0         \n",
            " )                                                               \n",
            "                                                                 \n",
            " flatten (Flatten)           (None, 127008)            0         \n",
            "                                                                 \n",
            " dense (Dense)               (None, 40)                5080360   \n",
            "                                                                 \n",
            " dense_1 (Dense)             (None, 20)                820       \n",
            "                                                                 \n",
            " dense_2 (Dense)             (None, 6)                 126       \n",
            "                                                                 \n",
            "=================================================================\n",
            "Total params: 5,082,202\n",
            "Trainable params: 5,082,202\n",
            "Non-trainable params: 0\n",
            "_________________________________________________________________\n"
          ]
        }
      ]
    }
  ],
  "metadata": {
    "colab": {
      "name": "Welcome To Colaboratory",
      "provenance": []
    },
    "kernelspec": {
      "display_name": "Python 3",
      "name": "python3"
    }
  },
  "nbformat": 4,
  "nbformat_minor": 0
}